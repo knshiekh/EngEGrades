{
 "cells": [
  {
   "cell_type": "markdown",
   "metadata": {},
   "source": [
    "# Overview"
   ]
  },
  {
   "cell_type": "markdown",
   "metadata": {},
   "source": [
    "The aim: given a .csv file of reddit posts related to grading in engineering we want to extract the following information\n",
    "\n",
    "* What are student perceptions of grades, particularly different grading practices?\n",
    "* What is the spectrum of grading practices being discussed in these reddit posts? \n",
    "    * While this is not a dataset we can use to make statements about common grading practices in engineering, it would be useful for framing the posts.\n",
    "\n",
    "The given dataset has 670 entries with ID, number of comments, score (I assume this is karma or upvotes?), date created, date retrieved, url, title, text, and title_and_post which combines the title and text. \n",
    "\n",
    "Things I'd like to do in this notebook:\n",
    "Generate codebooks using Ollama under multiple conditions: \n",
    "* Different prompts, perhaps comparing \"you are an engineering student\" vs \"you are an expert in education\"\n",
    "* Giving the model title_and_post vs just the post\n",
    "* Trying two different workflows: one where I have the model summarize the post before codebook development, and one with codebook development straight from the text\n",
    "\n",
    "Considering the comments and score columns. These might suggest agreement with the post (like to comment ratio is a thing on Facebook but it might not translate to Reddit so grains of salt)\n",
    "\n",
    "Runtime should also be accounted for as a metric, because a minute imporovement in codebook might not justify a jump in computational power (sustainable AI kiddos!!)"
   ]
  },
  {
   "cell_type": "markdown",
   "metadata": {},
   "source": [
    "## Imports Necessary Packages\n",
    "pandas is necessary for using dataframes\n",
    "\n",
    "ollama allows for the LLM I'd like to use "
   ]
  },
  {
   "cell_type": "code",
   "execution_count": 1,
   "metadata": {},
   "outputs": [],
   "source": [
    "import pandas as pd\n",
    "\n",
    "import ollama\n",
    "from ollama import chat\n",
    "\n"
   ]
  },
  {
   "cell_type": "code",
   "execution_count": 2,
   "metadata": {},
   "outputs": [
    {
     "data": {
      "application/vnd.microsoft.datawrangler.viewer.v0+json": {
       "columns": [
        {
         "name": "index",
         "rawType": "int64",
         "type": "integer"
        },
        {
         "name": "id",
         "rawType": "object",
         "type": "string"
        },
        {
         "name": "num_comments",
         "rawType": "int64",
         "type": "integer"
        },
        {
         "name": "score",
         "rawType": "int64",
         "type": "integer"
        },
        {
         "name": "created_utc",
         "rawType": "int64",
         "type": "integer"
        },
        {
         "name": "retrieved_on",
         "rawType": "int64",
         "type": "integer"
        },
        {
         "name": "url",
         "rawType": "object",
         "type": "string"
        },
        {
         "name": "title",
         "rawType": "object",
         "type": "string"
        },
        {
         "name": "selftext",
         "rawType": "object",
         "type": "string"
        },
        {
         "name": "title_and_post",
         "rawType": "object",
         "type": "string"
        }
       ],
       "conversionMethod": "pd.DataFrame",
       "ref": "f86494fc-6ece-4016-8a2d-b87e77fb1c57",
       "rows": [
        [
         "0",
         "rug5n6",
         "7",
         "25",
         "1641148940",
         "1654196744",
         "https://www.reddit.com/r/EngineeringStudents/comments/rug5n6/your_new_years_resolutions_for_engineering/",
         "Your New Year's Resolutions for engineering?",
         "Mine is to start preparing for interviews seriously and apply to at least 30 places this term.That and maintain my grades for my final two classes.",
         "Title: Your New Year's Resolutions for engineering?. Post: Mine is to start preparing for interviews seriously and apply to at least 30 places this term.That and maintain my grades for my final two classes."
        ],
        [
         "1",
         "rur8nq",
         "1",
         "2",
         "1641178949",
         "1654196023",
         "https://www.reddit.com/r/EngineeringStudents/comments/rur8nq/grad_school_gpa_question/",
         "Grad School GPA question",
         "Hi! I am a bit confused on the GPA requirements for a masters/PhD program. I've heard that these schools look for both overall and technical GPA. What is technical GPA? Like is this the average GPA of the classes that contribute to your major(my fundamental chem, math, CS, and Electrical Engineering classes) or is it only my \"major-specific\" classes (only electrical engineering classes)?I am asking this because some of the fundamental circuit classes are kind of screwing me over GPA-wise, but my math grades are great and I hope to do research in areas that require many math classes (like either control systems or signal processing). Thanks!",
         "Title: Grad School GPA question. Post: Hi! I am a bit confused on the GPA requirements for a masters/PhD program. I've heard that these schools look for both overall and technical GPA. What is technical GPA? Like is this the average GPA of the classes that contribute to your major(my fundamental chem, math, CS, and Electrical Engineering classes) or is it only my \"major-specific\" classes (only electrical engineering classes)?I am asking this because some of the fundamental circuit classes are kind of screwing me over GPA-wise, but my math grades are great and I hope to do research in areas that require many math classes (like either control systems or signal processing). Thanks!"
        ],
        [
         "2",
         "ruueii",
         "8",
         "43",
         "1641188900",
         "1654195819",
         "https://www.reddit.com/r/EngineeringStudents/comments/ruueii/class_ran_like_a_business/",
         "Class ran like a “business”",
         "One of my classes next semester requires students to form “homework teams” where part of our grade is based on “performance reviews” from your peers. My favorite part in that is that we can “fire” a team mate for not pulling their eight after we given them two “formal warnings” that are submitted to the professor. Each of our “meetings” must be done in person and not over Zoom (yay for a state with essentially no mask mandates and low vaccination rates) and one student is expected to take “minuets” which are submitted with our assignments. For bonus points, our notes are graded too. I swear I graduated high school almost a decade ago, but I guess not. I get why my professor is doing this, but as a non-traditional student already employed full-time as an engineer this is only going to annoy the living hell out of me. I'm already spending most of my day in meetings rather than doing my actual job and deal with soul-crushing semi-annual performance reviews. What's worse is that he's structuring the class as to what engineering was like in the past rather than what it is like now (at least at my company/team, we're very casual)",
         "Title: Class ran like a “business”. Post: One of my classes next semester requires students to form “homework teams” where part of our grade is based on “performance reviews” from your peers. My favorite part in that is that we can “fire” a team mate for not pulling their eight after we given them two “formal warnings” that are submitted to the professor. Each of our “meetings” must be done in person and not over Zoom (yay for a state with essentially no mask mandates and low vaccination rates) and one student is expected to take “minuets” which are submitted with our assignments. For bonus points, our notes are graded too. I swear I graduated high school almost a decade ago, but I guess not. I get why my professor is doing this, but as a non-traditional student already employed full-time as an engineer this is only going to annoy the living hell out of me. I'm already spending most of my day in meetings rather than doing my actual job and deal with soul-crushing semi-annual performance reviews. What's worse is that he's structuring the class as to what engineering was like in the past rather than what it is like now (at least at my company/team, we're very casual)"
        ],
        [
         "3",
         "rvl92h",
         "48",
         "233",
         "1641269541",
         "1654194077",
         "https://www.reddit.com/r/EngineeringStudents/comments/rvl92h/does_anybody_know_how_to_turn_there_brains_off_of/",
         "Does anybody know how to turn there brains off of “engineering student mode” during winter break?",
         "Im having trouble trying to take a break and I fear that Im not going to be ready mentally for school this spring. I also find it hard to take breaks while Im in school and doing work. I get the feeling that if I take a slight break then I am going to fail or do significantly worse on an assignment than I could which will further result in worse grades, possibly retaking a class. In result, I get pretty good grades, but I honestly dont care anymore, I wanna be happy. I am a major over-thinker. Any advice?Edit: Thanks for all the feedback! I bought a Switch and am playing a remake of a game I loved to play as a kid and plan to plan out more fun activities to do and along with ones with my gf. Im also working on having a more optimistic mind set.",
         "Title: Does anybody know how to turn there brains off of “engineering student mode” during winter break?. Post: Im having trouble trying to take a break and I fear that Im not going to be ready mentally for school this spring. I also find it hard to take breaks while Im in school and doing work. I get the feeling that if I take a slight break then I am going to fail or do significantly worse on an assignment than I could which will further result in worse grades, possibly retaking a class. In result, I get pretty good grades, but I honestly dont care anymore, I wanna be happy. I am a major over-thinker. Any advice?Edit: Thanks for all the feedback! I bought a Switch and am playing a remake of a game I loved to play as a kid and plan to plan out more fun activities to do and along with ones with my gf. Im also working on having a more optimistic mind set."
        ],
        [
         "4",
         "rvrv9g",
         "85",
         "876",
         "1641294290",
         "1654193669",
         "https://www.reddit.com/r/EngineeringStudents/comments/rvrv9g/does_anyone_get_that_heart_dropping_feeling_after/",
         "Does anyone get that heart dropping feeling after seeing your grades?",
         "Not everyone learns at the same pace, and surely not everyone sees certain grades the same way... Like one man's C+ is to him like an A, while another a B+ is like a D...But I think the feeling I hate the most is when I open that grades portal/website/tab and it just isn't what I hoped for (but probably deserved based on my efforts).Does anyone feel like they're heart just sunk to the bottom of the floor? I'm in my third year (junior), Mechanical Engineering, and seeing my GPA drop just kinda feels like I lost everything. Eventually I'll pick myself up and come up with the drive to succeed anew but at that moment. That moment of failure... Its so, gut wrenching.Edit: Thanks for the replies guys, really boosted my confidence, the grades hit like a truck but I'm still going to push forward, I got all my grades back, A,C+,C+,C,D+ which wound up as a 2.25... and lowered my GPA from 2.85 to 2.73... But I'm like 44 credits away, 3 semesters from hopefully finishing.",
         "Title: Does anyone get that heart dropping feeling after seeing your grades?. Post: Not everyone learns at the same pace, and surely not everyone sees certain grades the same way... Like one man's C+ is to him like an A, while another a B+ is like a D...But I think the feeling I hate the most is when I open that grades portal/website/tab and it just isn't what I hoped for (but probably deserved based on my efforts).Does anyone feel like they're heart just sunk to the bottom of the floor? I'm in my third year (junior), Mechanical Engineering, and seeing my GPA drop just kinda feels like I lost everything. Eventually I'll pick myself up and come up with the drive to succeed anew but at that moment. That moment of failure... Its so, gut wrenching.Edit: Thanks for the replies guys, really boosted my confidence, the grades hit like a truck but I'm still going to push forward, I got all my grades back, A,C+,C+,C,D+ which wound up as a 2.25... and lowered my GPA from 2.85 to 2.73... But I'm like 44 credits away, 3 semesters from hopefully finishing."
        ]
       ],
       "shape": {
        "columns": 9,
        "rows": 5
       }
      },
      "text/html": [
       "<div>\n",
       "<style scoped>\n",
       "    .dataframe tbody tr th:only-of-type {\n",
       "        vertical-align: middle;\n",
       "    }\n",
       "\n",
       "    .dataframe tbody tr th {\n",
       "        vertical-align: top;\n",
       "    }\n",
       "\n",
       "    .dataframe thead th {\n",
       "        text-align: right;\n",
       "    }\n",
       "</style>\n",
       "<table border=\"1\" class=\"dataframe\">\n",
       "  <thead>\n",
       "    <tr style=\"text-align: right;\">\n",
       "      <th></th>\n",
       "      <th>id</th>\n",
       "      <th>num_comments</th>\n",
       "      <th>score</th>\n",
       "      <th>created_utc</th>\n",
       "      <th>retrieved_on</th>\n",
       "      <th>url</th>\n",
       "      <th>title</th>\n",
       "      <th>selftext</th>\n",
       "      <th>title_and_post</th>\n",
       "    </tr>\n",
       "  </thead>\n",
       "  <tbody>\n",
       "    <tr>\n",
       "      <th>0</th>\n",
       "      <td>rug5n6</td>\n",
       "      <td>7</td>\n",
       "      <td>25</td>\n",
       "      <td>1641148940</td>\n",
       "      <td>1654196744</td>\n",
       "      <td>https://www.reddit.com/r/EngineeringStudents/c...</td>\n",
       "      <td>Your New Year's Resolutions for engineering?</td>\n",
       "      <td>Mine is to start preparing for interviews seri...</td>\n",
       "      <td>Title: Your New Year's Resolutions for enginee...</td>\n",
       "    </tr>\n",
       "    <tr>\n",
       "      <th>1</th>\n",
       "      <td>rur8nq</td>\n",
       "      <td>1</td>\n",
       "      <td>2</td>\n",
       "      <td>1641178949</td>\n",
       "      <td>1654196023</td>\n",
       "      <td>https://www.reddit.com/r/EngineeringStudents/c...</td>\n",
       "      <td>Grad School GPA question</td>\n",
       "      <td>Hi! I am a bit confused on the GPA requirement...</td>\n",
       "      <td>Title: Grad School GPA question. Post: Hi! I a...</td>\n",
       "    </tr>\n",
       "    <tr>\n",
       "      <th>2</th>\n",
       "      <td>ruueii</td>\n",
       "      <td>8</td>\n",
       "      <td>43</td>\n",
       "      <td>1641188900</td>\n",
       "      <td>1654195819</td>\n",
       "      <td>https://www.reddit.com/r/EngineeringStudents/c...</td>\n",
       "      <td>Class ran like a “business”</td>\n",
       "      <td>One of my classes next semester requires stude...</td>\n",
       "      <td>Title: Class ran like a “business”. Post: One ...</td>\n",
       "    </tr>\n",
       "    <tr>\n",
       "      <th>3</th>\n",
       "      <td>rvl92h</td>\n",
       "      <td>48</td>\n",
       "      <td>233</td>\n",
       "      <td>1641269541</td>\n",
       "      <td>1654194077</td>\n",
       "      <td>https://www.reddit.com/r/EngineeringStudents/c...</td>\n",
       "      <td>Does anybody know how to turn there brains off...</td>\n",
       "      <td>Im having trouble trying to take a break and I...</td>\n",
       "      <td>Title: Does anybody know how to turn there bra...</td>\n",
       "    </tr>\n",
       "    <tr>\n",
       "      <th>4</th>\n",
       "      <td>rvrv9g</td>\n",
       "      <td>85</td>\n",
       "      <td>876</td>\n",
       "      <td>1641294290</td>\n",
       "      <td>1654193669</td>\n",
       "      <td>https://www.reddit.com/r/EngineeringStudents/c...</td>\n",
       "      <td>Does anyone get that heart dropping feeling af...</td>\n",
       "      <td>Not everyone learns at the same pace, and sure...</td>\n",
       "      <td>Title: Does anyone get that heart dropping fee...</td>\n",
       "    </tr>\n",
       "  </tbody>\n",
       "</table>\n",
       "</div>"
      ],
      "text/plain": [
       "       id  num_comments  score  created_utc  retrieved_on  \\\n",
       "0  rug5n6             7     25   1641148940    1654196744   \n",
       "1  rur8nq             1      2   1641178949    1654196023   \n",
       "2  ruueii             8     43   1641188900    1654195819   \n",
       "3  rvl92h            48    233   1641269541    1654194077   \n",
       "4  rvrv9g            85    876   1641294290    1654193669   \n",
       "\n",
       "                                                 url  \\\n",
       "0  https://www.reddit.com/r/EngineeringStudents/c...   \n",
       "1  https://www.reddit.com/r/EngineeringStudents/c...   \n",
       "2  https://www.reddit.com/r/EngineeringStudents/c...   \n",
       "3  https://www.reddit.com/r/EngineeringStudents/c...   \n",
       "4  https://www.reddit.com/r/EngineeringStudents/c...   \n",
       "\n",
       "                                               title  \\\n",
       "0       Your New Year's Resolutions for engineering?   \n",
       "1                           Grad School GPA question   \n",
       "2                        Class ran like a “business”   \n",
       "3  Does anybody know how to turn there brains off...   \n",
       "4  Does anyone get that heart dropping feeling af...   \n",
       "\n",
       "                                            selftext  \\\n",
       "0  Mine is to start preparing for interviews seri...   \n",
       "1  Hi! I am a bit confused on the GPA requirement...   \n",
       "2  One of my classes next semester requires stude...   \n",
       "3  Im having trouble trying to take a break and I...   \n",
       "4  Not everyone learns at the same pace, and sure...   \n",
       "\n",
       "                                      title_and_post  \n",
       "0  Title: Your New Year's Resolutions for enginee...  \n",
       "1  Title: Grad School GPA question. Post: Hi! I a...  \n",
       "2  Title: Class ran like a “business”. Post: One ...  \n",
       "3  Title: Does anybody know how to turn there bra...  \n",
       "4  Title: Does anyone get that heart dropping fee...  "
      ]
     },
     "execution_count": 2,
     "metadata": {},
     "output_type": "execute_result"
    }
   ],
   "source": [
    "# Import the grading data\n",
    "data_df = pd.read_csv(\"data/EngineeringStudents_2022_Posts.csv\")\n",
    "data_df.head()"
   ]
  },
  {
   "cell_type": "markdown",
   "metadata": {},
   "source": [
    "# Prime Ollama\n",
    "We have two potential prompts to work from, either priming the model as a potential engineering student or as an educational researcher since we're interested in seeing how these may impact the themes given."
   ]
  },
  {
   "cell_type": "code",
   "execution_count": 3,
   "metadata": {},
   "outputs": [],
   "source": [
    "# Prompt for a model mimicking a student\n",
    "student_role = \"\"\"\n",
    "You are a prospective student who is interested in pursuing engineering. You want to understand the experiences of current students in the program.\n",
    "\"\"\"\n",
    "student_task = \"\"\" \n",
    "Given the following posts online from current students, summarize key themes. \n",
    "\"\"\"\n",
    "# Prompt for a model mimicking an education researcher\n",
    "researcher_role = \"\"\"\n",
    "You are an education researcher who is analyzing online discussions about grading in engineering programs.\n",
    "You want to understand the perspectives of students on grading practices and their impact on learning.\n",
    "\"\"\"\n",
    "\n",
    "researcher_task = \"\"\"\n",
    "Given the following posts online from current students, summarize key themes.\n",
    "In particular, focus on answering the following questions: \n",
    "What are student perceptions of grades?\n",
    "What is the spectrum of grading practices being discussed in these posts? \n",
    "\"\"\""
   ]
  },
  {
   "cell_type": "markdown",
   "metadata": {},
   "source": [
    "We also have two different workflows to work with, having summary points generated or having the whole post analyzed. The following function will summarize each post (which could be the title_and_post or just text from the data). "
   ]
  },
  {
   "cell_type": "code",
   "execution_count": 4,
   "metadata": {},
   "outputs": [],
   "source": [
    "def summarize_post(post, role):\n",
    "    # Create a chat session with the model\n",
    "    prompt = role + f\"\"\"\n",
    "    You are given the task of summarizing the following post into a few sentences:\\n \\\n",
    "    {post}\n",
    "    \"\"\"\n",
    "    response = ollama.chat(model=\"llama3.1:8b\", messages=[{\"role\": \"user\", \"content\": prompt}])\n",
    "    \n",
    "    return response['message']['content']"
   ]
  },
  {
   "cell_type": "markdown",
   "metadata": {},
   "source": [
    "# Working with just text column"
   ]
  },
  {
   "cell_type": "markdown",
   "metadata": {},
   "source": [
    "## Student"
   ]
  },
  {
   "cell_type": "code",
   "execution_count": null,
   "metadata": {},
   "outputs": [],
   "source": [
    "summarized_posts = []\n",
    "for post in data_df['selftext']:\n",
    "    summary = summarize_post(post, student_role)\n",
    "    summarized_posts.append(summary)"
   ]
  },
  {
   "cell_type": "code",
   "execution_count": null,
   "metadata": {},
   "outputs": [],
   "source": [
    "# Run the model on the posts without summaries"
   ]
  },
  {
   "cell_type": "code",
   "execution_count": null,
   "metadata": {},
   "outputs": [],
   "source": [
    "# Run the model on the posts with summaries"
   ]
  },
  {
   "cell_type": "markdown",
   "metadata": {},
   "source": [
    "## Researcher"
   ]
  },
  {
   "cell_type": "code",
   "execution_count": null,
   "metadata": {},
   "outputs": [],
   "source": [
    "# Summarize the posts with the researcher role"
   ]
  },
  {
   "cell_type": "code",
   "execution_count": null,
   "metadata": {},
   "outputs": [],
   "source": [
    "# Run the model on the posts without summaries"
   ]
  },
  {
   "cell_type": "code",
   "execution_count": null,
   "metadata": {},
   "outputs": [],
   "source": [
    "# Run the model on the posts with summaries"
   ]
  },
  {
   "cell_type": "markdown",
   "metadata": {},
   "source": [
    "# Working with title_and_post"
   ]
  },
  {
   "cell_type": "markdown",
   "metadata": {},
   "source": [
    "## Student"
   ]
  },
  {
   "cell_type": "code",
   "execution_count": null,
   "metadata": {},
   "outputs": [],
   "source": [
    "# Summarize the posts with the student role\n",
    "\n",
    "# Run the model on the posts without summaries\n",
    "\n",
    "# Run the model on the posts with summaries"
   ]
  },
  {
   "cell_type": "markdown",
   "metadata": {},
   "source": [
    "## Researcher"
   ]
  },
  {
   "cell_type": "code",
   "execution_count": null,
   "metadata": {},
   "outputs": [],
   "source": [
    "# Summarize the posts with the researcher role\n",
    "\n",
    "# Run the model on the posts without summaries\n",
    "\n",
    "# Run the model on the posts with summaries"
   ]
  }
 ],
 "metadata": {
  "kernelspec": {
   "display_name": "Python 3",
   "language": "python",
   "name": "python3"
  },
  "language_info": {
   "codemirror_mode": {
    "name": "ipython",
    "version": 3
   },
   "file_extension": ".py",
   "mimetype": "text/x-python",
   "name": "python",
   "nbconvert_exporter": "python",
   "pygments_lexer": "ipython3",
   "version": "3.9.6"
  }
 },
 "nbformat": 4,
 "nbformat_minor": 2
}
